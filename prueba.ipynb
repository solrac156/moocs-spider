{
 "cells": [
  {
   "cell_type": "code",
   "execution_count": 6,
   "metadata": {},
   "outputs": [],
   "source": [
    "import requests\n",
    "from scrapy.http import TextResponse\n",
    "import pandas as pd\n",
    "import re\n",
    "\n",
    "site = 'https://www.coursetalk.com/providers/edx/courses/introduction-to-computational-thinking-and-data-science'\n",
    "r = requests.get(site)\n",
    "response = TextResponse(r.url, body=r.text, encoding='utf-8')"
   ]
  },
  {
   "cell_type": "code",
   "execution_count": 22,
   "metadata": {},
   "outputs": [],
   "source": [
    "stars_number_xpath = '//*[@class=\"review-body-info\"]/span[@class=\"sr-only\"]/text()'\n",
    "stars_numbers = response.xpath(stars_number_xpath).extract()\n",
    "stars_numbers = [stars.replace(',', ' ').replace(';', ' ').strip() for stars in stars_numbers]"
   ]
  },
  {
   "cell_type": "code",
   "execution_count": 23,
   "metadata": {},
   "outputs": [
    {
     "name": "stdout",
     "output_type": "stream",
     "text": [
      "['10/10 stars', '10/10 stars', '10/10 stars', '10/10 stars', '10/10 stars', '10/10 stars', '10/10 stars', '10/10 stars', '6/10 stars', '10/10 stars', '10/10 stars', '10/10 stars', '10/10 stars', '10/10 stars', '9/10 stars', '10/10 stars', '10/10 stars', '8/10 stars']\n"
     ]
    }
   ],
   "source": [
    "print(stars_numbers)"
   ]
  },
  {
   "cell_type": "code",
   "execution_count": 19,
   "metadata": {},
   "outputs": [
    {
     "name": "stdout",
     "output_type": "stream",
     "text": [
      "consegui para 10/10 stars y es 10\n",
      "consegui para 10/10 stars y es 10\n",
      "consegui para 10/10 stars y es 10\n",
      "consegui para 10/10 stars y es 10\n",
      "consegui para 10/10 stars y es 10\n",
      "consegui para 10/10 stars y es 10\n",
      "consegui para 10/10 stars y es 10\n",
      "consegui para 10/10 stars y es 10\n",
      "consegui para 6/10 stars y es 6\n",
      "consegui para 10/10 stars y es 10\n",
      "consegui para 10/10 stars y es 10\n",
      "consegui para 10/10 stars y es 10\n",
      "consegui para 10/10 stars y es 10\n",
      "consegui para 10/10 stars y es 10\n",
      "consegui para 9/10 stars y es 9\n",
      "consegui para 10/10 stars y es 10\n",
      "consegui para 10/10 stars y es 10\n",
      "consegui para 8/10 stars y es 8\n"
     ]
    }
   ],
   "source": [
    "for stars in stars_numbers:\n",
    "    if re.search('(\\d+)/(\\d+) stars', stars):\n",
    "        print(\"consegui para \" + str(stars) + \" y es \" + str(re.search('(\\d+)/(\\d+) stars', stars).group(1)))"
   ]
  },
  {
   "cell_type": "code",
   "execution_count": 24,
   "metadata": {},
   "outputs": [
    {
     "name": "stdout",
     "output_type": "stream",
     "text": [
      "['10', '10', '10', '10', '10', '10', '10', '10', '6', '10', '10', '10', '10', '10', '9', '10', '10', '8']\n"
     ]
    }
   ],
   "source": [
    "stars_numbers = [re.search('(\\d+)/(\\d+) stars', stars).group(1) for stars in stars_numbers]\n",
    "print(stars_numbers)"
   ]
  },
  {
   "cell_type": "code",
   "execution_count": 27,
   "metadata": {},
   "outputs": [
    {
     "name": "stdout",
     "output_type": "stream",
     "text": [
      "5\n"
     ]
    }
   ],
   "source": [
    "cadena = '5/10 stars'\n",
    "print(re.search('(\\d+|None)/(\\d+) stars', cadena).group(1))"
   ]
  }
 ],
 "metadata": {
  "kernelspec": {
   "display_name": "Python 3",
   "language": "python",
   "name": "python3"
  },
  "language_info": {
   "codemirror_mode": {
    "name": "ipython",
    "version": 3
   },
   "file_extension": ".py",
   "mimetype": "text/x-python",
   "name": "python",
   "nbconvert_exporter": "python",
   "pygments_lexer": "ipython3",
   "version": "3.6.3"
  }
 },
 "nbformat": 4,
 "nbformat_minor": 2
}
